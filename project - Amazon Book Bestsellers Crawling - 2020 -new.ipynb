{
 "cells": [
  {
   "cell_type": "markdown",
   "metadata": {},
   "source": [
    "### Crawler for Amazon Bestsellers of 2020\n",
    "##### written by Jiyoung Kim"
   ]
  },
  {
   "cell_type": "markdown",
   "metadata": {},
   "source": [
    "#### Import libraries required for scraping"
   ]
  },
  {
   "cell_type": "code",
   "execution_count": 1,
   "metadata": {},
   "outputs": [],
   "source": [
    "import pandas as pd\n",
    "import numpy as np\n",
    "from urllib.request import urlopen\n",
    "from bs4 import BeautifulSoup\n",
    "import requests"
   ]
  },
  {
   "cell_type": "markdown",
   "metadata": {},
   "source": [
    "#### Scraping Amazon Bestsellers list of 2020 from website"
   ]
  },
  {
   "cell_type": "code",
   "execution_count": 3,
   "metadata": {},
   "outputs": [],
   "source": [
    "no_pages = 2\n",
    "\n",
    "def get_data(pageNo):  \n",
    "    headers = {\"User-Agent\":\"Mozilla/5.0 (Windows NT 10.0; Win64; x64; rv:66.0) Gecko/20100101 Firefox/66.0\", \"Accept-Encoding\":\"gzip, deflate\", \"Accept\":\"text/html,application/xhtml+xml,application/xml;q=0.9,*/*;q=0.8\", \"DNT\":\"1\",\"Connection\":\"close\", \"Upgrade-Insecure-Requests\":\"1\"}\n",
    "\n",
    "    r = requests.get('https://www.amazon.com/gp/bestsellers/2020/books/ref=zg_bsar_cal_ye'+str(pageNo)+'?ie=UTF8&pg='+str(pageNo), headers=headers)#, proxies=proxies)\n",
    "    content = r.content\n",
    "    soup = BeautifulSoup(content)\n",
    "    #print(soup)\n",
    "\n",
    "    alls = []\n",
    "    for d in soup.findAll('div', attrs={'class':'a-section a-spacing-none aok-relative'}):\n",
    "        #print(d)\n",
    "        name = d.find('span', attrs={'class':'zg-text-center-align'})\n",
    "        n = name.find_all('img', alt=True)\n",
    "        #print(n[0]['alt'])\n",
    "        author = d.find('a', attrs={'class':'a-size-small a-link-child'})\n",
    "        rating = d.find('span', attrs={'class':'a-icon-alt'})\n",
    "        users_rated = d.find('a', attrs={'class':'a-size-small a-link-normal'})\n",
    "        price = d.find('span', attrs={'class':'p13n-sc-price'})\n",
    "\n",
    "        all1=[]\n",
    "\n",
    "        if name is not None:\n",
    "            #print(n[0]['alt'])\n",
    "            all1.append(n[0]['alt'])\n",
    "        else:\n",
    "            all1.append(\"unknown-product\")\n",
    "\n",
    "        if author is not None:\n",
    "            #print(author.text)\n",
    "            all1.append(author.text)\n",
    "        elif author is None:\n",
    "            author = d.find('span', attrs={'class':'a-size-small a-color-base'})\n",
    "            if author is not None:\n",
    "                all1.append(author.text)\n",
    "            else:    \n",
    "                all1.append('0')\n",
    "\n",
    "        if rating is not None:\n",
    "            #print(rating.text)\n",
    "            all1.append(rating.text)\n",
    "        else:\n",
    "            all1.append('-1')\n",
    "\n",
    "        if users_rated is not None:\n",
    "            #print(price.text)\n",
    "            all1.append(users_rated.text)\n",
    "        else:\n",
    "            all1.append('0')     \n",
    "\n",
    "        if price is not None:\n",
    "            #print(price.text)\n",
    "            all1.append(price.text)\n",
    "        else:\n",
    "            all1.append('0')\n",
    "        alls.append(all1)    \n",
    "    return alls"
   ]
  },
  {
   "cell_type": "markdown",
   "metadata": {},
   "source": [
    "#### Save the scraped result as csv"
   ]
  },
  {
   "cell_type": "code",
   "execution_count": 4,
   "metadata": {},
   "outputs": [],
   "source": [
    "results = []\n",
    "for i in range(1, no_pages+1):\n",
    "    results.append(get_data(i))\n",
    "flatten = lambda l: [item for sublist in l for item in sublist]\n",
    "df2 = pd.DataFrame(flatten(results),columns=['Book Title','Author','Rating','Num_Customers_Rated', 'Price($)'])\n"
   ]
  },
  {
   "cell_type": "code",
   "execution_count": 5,
   "metadata": {},
   "outputs": [],
   "source": [
    "df2.to_csv('amazon_bestsellers_2020.csv', index=False, encoding='utf-8')"
   ]
  },
  {
   "cell_type": "markdown",
   "metadata": {},
   "source": [
    "#### Open csv file"
   ]
  },
  {
   "cell_type": "code",
   "execution_count": 6,
   "metadata": {},
   "outputs": [],
   "source": [
    "df2 = pd.read_csv(\"amazon_bestsellers_2020.csv\")"
   ]
  },
  {
   "cell_type": "code",
   "execution_count": 7,
   "metadata": {},
   "outputs": [
    {
     "data": {
      "text/plain": [
       "(100, 5)"
      ]
     },
     "execution_count": 7,
     "metadata": {},
     "output_type": "execute_result"
    }
   ],
   "source": [
    "df2.shape"
   ]
  },
  {
   "cell_type": "code",
   "execution_count": 8,
   "metadata": {},
   "outputs": [
    {
     "data": {
      "text/html": [
       "<div>\n",
       "<style scoped>\n",
       "    .dataframe tbody tr th:only-of-type {\n",
       "        vertical-align: middle;\n",
       "    }\n",
       "\n",
       "    .dataframe tbody tr th {\n",
       "        vertical-align: top;\n",
       "    }\n",
       "\n",
       "    .dataframe thead th {\n",
       "        text-align: right;\n",
       "    }\n",
       "</style>\n",
       "<table border=\"1\" class=\"dataframe\">\n",
       "  <thead>\n",
       "    <tr style=\"text-align: right;\">\n",
       "      <th></th>\n",
       "      <th>Book Title</th>\n",
       "      <th>Author</th>\n",
       "      <th>Rating</th>\n",
       "      <th>Num_Customers_Rated</th>\n",
       "      <th>Price($)</th>\n",
       "    </tr>\n",
       "  </thead>\n",
       "  <tbody>\n",
       "    <tr>\n",
       "      <th>0</th>\n",
       "      <td>A Promised Land</td>\n",
       "      <td>Barack Obama</td>\n",
       "      <td>4.9 out of 5 stars</td>\n",
       "      <td>34,872</td>\n",
       "      <td>$27.00</td>\n",
       "    </tr>\n",
       "    <tr>\n",
       "      <th>1</th>\n",
       "      <td>Too Much and Never Enough: How My Family Creat...</td>\n",
       "      <td>Mary L. Trump Ph.D.</td>\n",
       "      <td>4.6 out of 5 stars</td>\n",
       "      <td>84,017</td>\n",
       "      <td>$19.58</td>\n",
       "    </tr>\n",
       "    <tr>\n",
       "      <th>2</th>\n",
       "      <td>Where the Crawdads Sing</td>\n",
       "      <td>Delia Owens</td>\n",
       "      <td>4.8 out of 5 stars</td>\n",
       "      <td>126,630</td>\n",
       "      <td>$4.55</td>\n",
       "    </tr>\n",
       "    <tr>\n",
       "      <th>3</th>\n",
       "      <td>My First Learn to Write Workbook: Practice for...</td>\n",
       "      <td>Crystal Radke</td>\n",
       "      <td>4.8 out of 5 stars</td>\n",
       "      <td>38,406</td>\n",
       "      <td>$5.39</td>\n",
       "    </tr>\n",
       "    <tr>\n",
       "      <th>4</th>\n",
       "      <td>Midnight Sun</td>\n",
       "      <td>Stephenie Meyer</td>\n",
       "      <td>4.8 out of 5 stars</td>\n",
       "      <td>53,509</td>\n",
       "      <td>$13.32</td>\n",
       "    </tr>\n",
       "    <tr>\n",
       "      <th>...</th>\n",
       "      <td>...</td>\n",
       "      <td>...</td>\n",
       "      <td>...</td>\n",
       "      <td>...</td>\n",
       "      <td>...</td>\n",
       "    </tr>\n",
       "    <tr>\n",
       "      <th>95</th>\n",
       "      <td>Relationship Goals: How to Win at Dating, Marr...</td>\n",
       "      <td>Michael Todd</td>\n",
       "      <td>4.8 out of 5 stars</td>\n",
       "      <td>13,777</td>\n",
       "      <td>$10.49</td>\n",
       "    </tr>\n",
       "    <tr>\n",
       "      <th>96</th>\n",
       "      <td>The Happy in a Hurry Cookbook: 100-Plus Fast a...</td>\n",
       "      <td>Steve Doocy</td>\n",
       "      <td>4.7 out of 5 stars</td>\n",
       "      <td>7,929</td>\n",
       "      <td>$20.98</td>\n",
       "    </tr>\n",
       "    <tr>\n",
       "      <th>97</th>\n",
       "      <td>Learn to Read: A Magical Sight Words and Phoni...</td>\n",
       "      <td>Modern Kid Press</td>\n",
       "      <td>4.7 out of 5 stars</td>\n",
       "      <td>9,459</td>\n",
       "      <td>$6.99</td>\n",
       "    </tr>\n",
       "    <tr>\n",
       "      <th>98</th>\n",
       "      <td>P is for Potty! (Sesame Street) (Lift-the-Flap)</td>\n",
       "      <td>Naomi Kleinberg</td>\n",
       "      <td>4.7 out of 5 stars</td>\n",
       "      <td>16,343</td>\n",
       "      <td>$5.68</td>\n",
       "    </tr>\n",
       "    <tr>\n",
       "      <th>99</th>\n",
       "      <td>Player's Handbook (Dungeons &amp; Dragons)</td>\n",
       "      <td>Wizards RPG Team</td>\n",
       "      <td>4.8 out of 5 stars</td>\n",
       "      <td>24,244</td>\n",
       "      <td>$17.98</td>\n",
       "    </tr>\n",
       "  </tbody>\n",
       "</table>\n",
       "<p>100 rows × 5 columns</p>\n",
       "</div>"
      ],
      "text/plain": [
       "                                           Book Title               Author  \\\n",
       "0                                     A Promised Land         Barack Obama   \n",
       "1   Too Much and Never Enough: How My Family Creat...  Mary L. Trump Ph.D.   \n",
       "2                             Where the Crawdads Sing          Delia Owens   \n",
       "3   My First Learn to Write Workbook: Practice for...        Crystal Radke   \n",
       "4                                        Midnight Sun      Stephenie Meyer   \n",
       "..                                                ...                  ...   \n",
       "95  Relationship Goals: How to Win at Dating, Marr...         Michael Todd   \n",
       "96  The Happy in a Hurry Cookbook: 100-Plus Fast a...          Steve Doocy   \n",
       "97  Learn to Read: A Magical Sight Words and Phoni...     Modern Kid Press   \n",
       "98    P is for Potty! (Sesame Street) (Lift-the-Flap)      Naomi Kleinberg   \n",
       "99             Player's Handbook (Dungeons & Dragons)     Wizards RPG Team   \n",
       "\n",
       "                Rating Num_Customers_Rated Price($)  \n",
       "0   4.9 out of 5 stars              34,872   $27.00  \n",
       "1   4.6 out of 5 stars              84,017   $19.58  \n",
       "2   4.8 out of 5 stars             126,630    $4.55  \n",
       "3   4.8 out of 5 stars              38,406    $5.39  \n",
       "4   4.8 out of 5 stars              53,509   $13.32  \n",
       "..                 ...                 ...      ...  \n",
       "95  4.8 out of 5 stars              13,777   $10.49  \n",
       "96  4.7 out of 5 stars               7,929   $20.98  \n",
       "97  4.7 out of 5 stars               9,459    $6.99  \n",
       "98  4.7 out of 5 stars              16,343    $5.68  \n",
       "99  4.8 out of 5 stars              24,244   $17.98  \n",
       "\n",
       "[100 rows x 5 columns]"
      ]
     },
     "execution_count": 8,
     "metadata": {},
     "output_type": "execute_result"
    }
   ],
   "source": [
    "df2.head(100)"
   ]
  },
  {
   "cell_type": "markdown",
   "metadata": {},
   "source": [
    "#### Data Preprocessing "
   ]
  },
  {
   "cell_type": "code",
   "execution_count": 9,
   "metadata": {},
   "outputs": [],
   "source": [
    "df2.insert(0, 'Rank', df2.index + 1) #Adding the Best seller rank using index"
   ]
  },
  {
   "cell_type": "code",
   "execution_count": 10,
   "metadata": {},
   "outputs": [],
   "source": [
    "df2.insert(0, 'Year', '2020') #Adding Year column"
   ]
  },
  {
   "cell_type": "code",
   "execution_count": 11,
   "metadata": {},
   "outputs": [],
   "source": [
    "#Getting rid of all the 'out of 5 stars' phrase from Rating column values\n",
    "df2['Rating'] = df2['Rating'].apply(lambda x: x.split()[0]) "
   ]
  },
  {
   "cell_type": "code",
   "execution_count": 12,
   "metadata": {},
   "outputs": [],
   "source": [
    "df2['Rating'] = pd.to_numeric(df2['Rating']) #change Rating's data type into numeric"
   ]
  },
  {
   "cell_type": "code",
   "execution_count": 13,
   "metadata": {},
   "outputs": [],
   "source": [
    "#Getting rid of all the dollar sign '$' from Price column values\n",
    "df2['Price($)'] = df2['Price($)'].str.replace('$', '')\n",
    "df2['Price($)'] = df2['Price($)'].astype(float)"
   ]
  },
  {
   "cell_type": "code",
   "execution_count": 14,
   "metadata": {},
   "outputs": [],
   "source": [
    "#Getting rid of comma from Customers_Rated column value\n",
    "df2[\"Num_Customers_Rated\"] = df2[\"Num_Customers_Rated\"].str.replace(',', '')\n",
    "df2['Num_Customers_Rated'] = pd.to_numeric(df2['Num_Customers_Rated'])"
   ]
  },
  {
   "cell_type": "code",
   "execution_count": 15,
   "metadata": {},
   "outputs": [
    {
     "data": {
      "text/html": [
       "<div>\n",
       "<style scoped>\n",
       "    .dataframe tbody tr th:only-of-type {\n",
       "        vertical-align: middle;\n",
       "    }\n",
       "\n",
       "    .dataframe tbody tr th {\n",
       "        vertical-align: top;\n",
       "    }\n",
       "\n",
       "    .dataframe thead th {\n",
       "        text-align: right;\n",
       "    }\n",
       "</style>\n",
       "<table border=\"1\" class=\"dataframe\">\n",
       "  <thead>\n",
       "    <tr style=\"text-align: right;\">\n",
       "      <th></th>\n",
       "      <th>Year</th>\n",
       "      <th>Rank</th>\n",
       "      <th>Book Title</th>\n",
       "      <th>Author</th>\n",
       "      <th>Rating</th>\n",
       "      <th>Num_Customers_Rated</th>\n",
       "      <th>Price($)</th>\n",
       "    </tr>\n",
       "  </thead>\n",
       "  <tbody>\n",
       "    <tr>\n",
       "      <th>0</th>\n",
       "      <td>2020</td>\n",
       "      <td>1</td>\n",
       "      <td>A Promised Land</td>\n",
       "      <td>Barack Obama</td>\n",
       "      <td>4.9</td>\n",
       "      <td>34872</td>\n",
       "      <td>27.00</td>\n",
       "    </tr>\n",
       "    <tr>\n",
       "      <th>1</th>\n",
       "      <td>2020</td>\n",
       "      <td>2</td>\n",
       "      <td>Too Much and Never Enough: How My Family Creat...</td>\n",
       "      <td>Mary L. Trump Ph.D.</td>\n",
       "      <td>4.6</td>\n",
       "      <td>84017</td>\n",
       "      <td>19.58</td>\n",
       "    </tr>\n",
       "    <tr>\n",
       "      <th>2</th>\n",
       "      <td>2020</td>\n",
       "      <td>3</td>\n",
       "      <td>Where the Crawdads Sing</td>\n",
       "      <td>Delia Owens</td>\n",
       "      <td>4.8</td>\n",
       "      <td>126630</td>\n",
       "      <td>4.55</td>\n",
       "    </tr>\n",
       "    <tr>\n",
       "      <th>3</th>\n",
       "      <td>2020</td>\n",
       "      <td>4</td>\n",
       "      <td>My First Learn to Write Workbook: Practice for...</td>\n",
       "      <td>Crystal Radke</td>\n",
       "      <td>4.8</td>\n",
       "      <td>38406</td>\n",
       "      <td>5.39</td>\n",
       "    </tr>\n",
       "    <tr>\n",
       "      <th>4</th>\n",
       "      <td>2020</td>\n",
       "      <td>5</td>\n",
       "      <td>Midnight Sun</td>\n",
       "      <td>Stephenie Meyer</td>\n",
       "      <td>4.8</td>\n",
       "      <td>53509</td>\n",
       "      <td>13.32</td>\n",
       "    </tr>\n",
       "  </tbody>\n",
       "</table>\n",
       "</div>"
      ],
      "text/plain": [
       "   Year  Rank                                         Book Title  \\\n",
       "0  2020     1                                    A Promised Land   \n",
       "1  2020     2  Too Much and Never Enough: How My Family Creat...   \n",
       "2  2020     3                            Where the Crawdads Sing   \n",
       "3  2020     4  My First Learn to Write Workbook: Practice for...   \n",
       "4  2020     5                                       Midnight Sun   \n",
       "\n",
       "                Author  Rating  Num_Customers_Rated  Price($)  \n",
       "0         Barack Obama     4.9                34872     27.00  \n",
       "1  Mary L. Trump Ph.D.     4.6                84017     19.58  \n",
       "2          Delia Owens     4.8               126630      4.55  \n",
       "3        Crystal Radke     4.8                38406      5.39  \n",
       "4      Stephenie Meyer     4.8                53509     13.32  "
      ]
     },
     "execution_count": 15,
     "metadata": {},
     "output_type": "execute_result"
    }
   ],
   "source": [
    "df2.head()"
   ]
  },
  {
   "cell_type": "code",
   "execution_count": 16,
   "metadata": {},
   "outputs": [],
   "source": [
    "df2.to_csv(\"amazon_bestsellers_2020.csv\", sep=\",\", index = False)"
   ]
  }
 ],
 "metadata": {
  "kernelspec": {
   "display_name": "Python 3",
   "language": "python",
   "name": "python3"
  },
  "language_info": {
   "codemirror_mode": {
    "name": "ipython",
    "version": 3
   },
   "file_extension": ".py",
   "mimetype": "text/x-python",
   "name": "python",
   "nbconvert_exporter": "python",
   "pygments_lexer": "ipython3",
   "version": "3.8.5"
  }
 },
 "nbformat": 4,
 "nbformat_minor": 4
}
